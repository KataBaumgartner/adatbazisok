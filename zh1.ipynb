{
    "cells": [
        {
            "cell_type": "code",
            "execution_count": 17,
            "metadata": {
                "azdata_cell_guid": "4e2e5816-13f8-4f27-be77-f65d5a8c4b3a",
                "language": "sql"
            },
            "outputs": [
                {
                    "data": {
                        "text/html": [
                            "(20 rows affected)"
                        ]
                    },
                    "metadata": {},
                    "output_type": "display_data"
                },
                {
                    "data": {
                        "text/html": [
                            "Total execution time: 00:00:00.010"
                        ]
                    },
                    "metadata": {},
                    "output_type": "display_data"
                },
                {
                    "data": {
                        "application/vnd.dataresource+json": {
                            "data": [
                                {
                                    "Klímás szobák száma": "10",
                                    "SZALLAS_ID": "1",
                                    "SZALLAS_NEV": "Sába-Ház"
                                },
                                {
                                    "Klímás szobák száma": "4",
                                    "SZALLAS_ID": "2",
                                    "SZALLAS_NEV": "Családi Ház"
                                },
                                {
                                    "Klímás szobák száma": "5",
                                    "SZALLAS_ID": "3",
                                    "SZALLAS_NEV": "Fortuna Apartman"
                                },
                                {
                                    "Klímás szobák száma": "12",
                                    "SZALLAS_ID": "4",
                                    "SZALLAS_NEV": "Fortuna panzió"
                                },
                                {
                                    "Klímás szobák száma": "8",
                                    "SZALLAS_ID": "5",
                                    "SZALLAS_NEV": "Fortuna Panzió"
                                },
                                {
                                    "Klímás szobák száma": "22",
                                    "SZALLAS_ID": "6",
                                    "SZALLAS_NEV": "Kentaur Hotel"
                                },
                                {
                                    "Klímás szobák száma": "4",
                                    "SZALLAS_ID": "7",
                                    "SZALLAS_NEV": "Szieszta Apartmanház"
                                },
                                {
                                    "Klímás szobák száma": "28",
                                    "SZALLAS_ID": "8",
                                    "SZALLAS_NEV": "Hotel Három Hattyú"
                                },
                                {
                                    "Klímás szobák száma": "2",
                                    "SZALLAS_ID": "9",
                                    "SZALLAS_NEV": "Jáde panzió"
                                },
                                {
                                    "Klímás szobák száma": "15",
                                    "SZALLAS_ID": "10",
                                    "SZALLAS_NEV": "Lagúna Hotel"
                                },
                                {
                                    "Klímás szobák száma": "4",
                                    "SZALLAS_ID": "11",
                                    "SZALLAS_NEV": "Partiszél Vendégház"
                                },
                                {
                                    "Klímás szobák száma": "42",
                                    "SZALLAS_ID": "12",
                                    "SZALLAS_NEV": "Gold Hotel"
                                },
                                {
                                    "Klímás szobák száma": "8",
                                    "SZALLAS_ID": "13",
                                    "SZALLAS_NEV": "Riviéra Panzió"
                                },
                                {
                                    "Klímás szobák száma": "4",
                                    "SZALLAS_ID": "14",
                                    "SZALLAS_NEV": "Nyárfás Vendégház"
                                },
                                {
                                    "Klímás szobák száma": "9",
                                    "SZALLAS_ID": "15",
                                    "SZALLAS_NEV": "Tímárház Panzió"
                                },
                                {
                                    "Klímás szobák száma": "14",
                                    "SZALLAS_ID": "16",
                                    "SZALLAS_NEV": "Bagoly Hotel"
                                },
                                {
                                    "Klímás szobák száma": "11",
                                    "SZALLAS_ID": "17",
                                    "SZALLAS_NEV": "Szarvas Hotel"
                                },
                                {
                                    "Klímás szobák száma": "2",
                                    "SZALLAS_ID": "18",
                                    "SZALLAS_NEV": "Fortuna Apartman"
                                },
                                {
                                    "Klímás szobák száma": "2",
                                    "SZALLAS_ID": "19",
                                    "SZALLAS_NEV": "Nyárfás Vendégház"
                                },
                                {
                                    "Klímás szobák száma": "9",
                                    "SZALLAS_ID": "20",
                                    "SZALLAS_NEV": "Kollégium"
                                }
                            ],
                            "schema": {
                                "fields": [
                                    {
                                        "name": "SZALLAS_ID"
                                    },
                                    {
                                        "name": "SZALLAS_NEV"
                                    },
                                    {
                                        "name": "Klímás szobák száma"
                                    }
                                ]
                            }
                        },
                        "text/html": [
                            "<table>\n",
                            "<tr><th>SZALLAS_ID</th><th>SZALLAS_NEV</th><th>Klímás szobák száma</th></tr>\n",
                            "<tr><td>1</td><td>Sába-Ház</td><td>10</td></tr>\n",
                            "<tr><td>2</td><td>Családi Ház</td><td>4</td></tr>\n",
                            "<tr><td>3</td><td>Fortuna Apartman</td><td>5</td></tr>\n",
                            "<tr><td>4</td><td>Fortuna panzió</td><td>12</td></tr>\n",
                            "<tr><td>5</td><td>Fortuna Panzió</td><td>8</td></tr>\n",
                            "<tr><td>6</td><td>Kentaur Hotel</td><td>22</td></tr>\n",
                            "<tr><td>7</td><td>Szieszta Apartmanház</td><td>4</td></tr>\n",
                            "<tr><td>8</td><td>Hotel Három Hattyú</td><td>28</td></tr>\n",
                            "<tr><td>9</td><td>Jáde panzió</td><td>2</td></tr>\n",
                            "<tr><td>10</td><td>Lagúna Hotel</td><td>15</td></tr>\n",
                            "<tr><td>11</td><td>Partiszél Vendégház</td><td>4</td></tr>\n",
                            "<tr><td>12</td><td>Gold Hotel</td><td>42</td></tr>\n",
                            "<tr><td>13</td><td>Riviéra Panzió</td><td>8</td></tr>\n",
                            "<tr><td>14</td><td>Nyárfás Vendégház</td><td>4</td></tr>\n",
                            "<tr><td>15</td><td>Tímárház Panzió</td><td>9</td></tr>\n",
                            "<tr><td>16</td><td>Bagoly Hotel</td><td>14</td></tr>\n",
                            "<tr><td>17</td><td>Szarvas Hotel</td><td>11</td></tr>\n",
                            "<tr><td>18</td><td>Fortuna Apartman</td><td>2</td></tr>\n",
                            "<tr><td>19</td><td>Nyárfás Vendégház</td><td>2</td></tr>\n",
                            "<tr><td>20</td><td>Kollégium</td><td>9</td></tr>\n",
                            "</table>"
                        ]
                    },
                    "execution_count": 17,
                    "metadata": {},
                    "output_type": "execute_result"
                }
            ],
            "source": [
                "-- 1. feladat\n",
                "SELECT szh.SZALLAS_ID, szh.SZALLAS_NEV, COUNT(sz.KLIMAS) AS 'Klímás szobák száma'\n",
                "FROM Szallashely szh JOIN Szoba sz ON sz.SZALLAS_FK = szh.SZALLAS_ID\n",
                "WHERE sz.KLIMAS = 'i'\n",
                "GROUP BY szh.SZALLAS_NEV, szh.SZALLAS_ID"
            ]
        },
        {
            "cell_type": "code",
            "execution_count": 32,
            "metadata": {
                "azdata_cell_guid": "ca2c7776-6338-4b02-98de-0369bd3e58c5",
                "language": "sql"
            },
            "outputs": [
                {
                    "data": {
                        "text/html": [
                            "(187 rows affected)"
                        ]
                    },
                    "metadata": {},
                    "output_type": "display_data"
                },
                {
                    "data": {
                        "text/html": [
                            "Total execution time: 00:00:00.013"
                        ]
                    },
                    "metadata": {},
                    "output_type": "display_data"
                },
                {
                    "data": {
                        "application/vnd.dataresource+json": {
                            "data": [
                                {
                                    "(No column name)": "4",
                                    "SZALLAS_NEV": "Családi Ház",
                                    "SZOBA_SZAMA": "1"
                                },
                                {
                                    "(No column name)": "3",
                                    "SZALLAS_NEV": "Családi Ház",
                                    "SZOBA_SZAMA": "2"
                                },
                                {
                                    "(No column name)": "6",
                                    "SZALLAS_NEV": "Családi Ház",
                                    "SZOBA_SZAMA": "3"
                                },
                                {
                                    "(No column name)": "5",
                                    "SZALLAS_NEV": "Családi Ház",
                                    "SZOBA_SZAMA": "4"
                                },
                                {
                                    "(No column name)": "6",
                                    "SZALLAS_NEV": "Fortuna Apartman",
                                    "SZOBA_SZAMA": "1"
                                },
                                {
                                    "(No column name)": "6",
                                    "SZALLAS_NEV": "Fortuna Apartman",
                                    "SZOBA_SZAMA": "2"
                                },
                                {
                                    "(No column name)": "6",
                                    "SZALLAS_NEV": "Fortuna Apartman",
                                    "SZOBA_SZAMA": "3"
                                },
                                {
                                    "(No column name)": "5",
                                    "SZALLAS_NEV": "Fortuna Apartman",
                                    "SZOBA_SZAMA": "4"
                                },
                                {
                                    "(No column name)": "4",
                                    "SZALLAS_NEV": "Fortuna Apartman",
                                    "SZOBA_SZAMA": "5"
                                },
                                {
                                    "(No column name)": "6",
                                    "SZALLAS_NEV": "Fortuna Apartman",
                                    "SZOBA_SZAMA": "6"
                                },
                                {
                                    "(No column name)": "3",
                                    "SZALLAS_NEV": "Fortuna Apartman",
                                    "SZOBA_SZAMA": "7"
                                },
                                {
                                    "(No column name)": "3",
                                    "SZALLAS_NEV": "Fortuna Apartman",
                                    "SZOBA_SZAMA": "8"
                                },
                                {
                                    "(No column name)": "6",
                                    "SZALLAS_NEV": "Fortuna panzió",
                                    "SZOBA_SZAMA": "1"
                                },
                                {
                                    "(No column name)": "11",
                                    "SZALLAS_NEV": "Fortuna Panzió",
                                    "SZOBA_SZAMA": "10"
                                },
                                {
                                    "(No column name)": "9",
                                    "SZALLAS_NEV": "Fortuna panzió",
                                    "SZOBA_SZAMA": "11"
                                },
                                {
                                    "(No column name)": "6",
                                    "SZALLAS_NEV": "Fortuna panzió",
                                    "SZOBA_SZAMA": "12"
                                },
                                {
                                    "(No column name)": "3",
                                    "SZALLAS_NEV": "Fortuna panzió",
                                    "SZOBA_SZAMA": "13"
                                },
                                {
                                    "(No column name)": "8",
                                    "SZALLAS_NEV": "Fortuna panzió",
                                    "SZOBA_SZAMA": "14"
                                },
                                {
                                    "(No column name)": "7",
                                    "SZALLAS_NEV": "Fortuna panzió",
                                    "SZOBA_SZAMA": "15"
                                },
                                {
                                    "(No column name)": "4",
                                    "SZALLAS_NEV": "Fortuna Panzió",
                                    "SZOBA_SZAMA": "2"
                                },
                                {
                                    "(No column name)": "13",
                                    "SZALLAS_NEV": "Fortuna Panzió",
                                    "SZOBA_SZAMA": "3"
                                },
                                {
                                    "(No column name)": "14",
                                    "SZALLAS_NEV": "Fortuna panzió",
                                    "SZOBA_SZAMA": "4"
                                },
                                {
                                    "(No column name)": "12",
                                    "SZALLAS_NEV": "Fortuna panzió",
                                    "SZOBA_SZAMA": "5"
                                },
                                {
                                    "(No column name)": "8",
                                    "SZALLAS_NEV": "Fortuna Panzió",
                                    "SZOBA_SZAMA": "6"
                                },
                                {
                                    "(No column name)": "7",
                                    "SZALLAS_NEV": "Fortuna panzió",
                                    "SZOBA_SZAMA": "7"
                                },
                                {
                                    "(No column name)": "3",
                                    "SZALLAS_NEV": "Fortuna Panzió",
                                    "SZOBA_SZAMA": "8"
                                },
                                {
                                    "(No column name)": "15",
                                    "SZALLAS_NEV": "Fortuna panzió",
                                    "SZOBA_SZAMA": "9"
                                },
                                {
                                    "(No column name)": "7",
                                    "SZALLAS_NEV": "Gold Hotel",
                                    "SZOBA_SZAMA": "1"
                                },
                                {
                                    "(No column name)": "4",
                                    "SZALLAS_NEV": "Gold Hotel",
                                    "SZOBA_SZAMA": "10"
                                },
                                {
                                    "(No column name)": "5",
                                    "SZALLAS_NEV": "Gold Hotel",
                                    "SZOBA_SZAMA": "11"
                                },
                                {
                                    "(No column name)": "6",
                                    "SZALLAS_NEV": "Gold Hotel",
                                    "SZOBA_SZAMA": "12"
                                },
                                {
                                    "(No column name)": "4",
                                    "SZALLAS_NEV": "Gold Hotel",
                                    "SZOBA_SZAMA": "13"
                                },
                                {
                                    "(No column name)": "4",
                                    "SZALLAS_NEV": "Gold Hotel",
                                    "SZOBA_SZAMA": "14"
                                },
                                {
                                    "(No column name)": "3",
                                    "SZALLAS_NEV": "Gold Hotel",
                                    "SZOBA_SZAMA": "15"
                                },
                                {
                                    "(No column name)": "3",
                                    "SZALLAS_NEV": "Gold Hotel",
                                    "SZOBA_SZAMA": "16"
                                },
                                {
                                    "(No column name)": "6",
                                    "SZALLAS_NEV": "Gold Hotel",
                                    "SZOBA_SZAMA": "17"
                                },
                                {
                                    "(No column name)": "12",
                                    "SZALLAS_NEV": "Gold Hotel",
                                    "SZOBA_SZAMA": "18"
                                },
                                {
                                    "(No column name)": "4",
                                    "SZALLAS_NEV": "Gold Hotel",
                                    "SZOBA_SZAMA": "19"
                                },
                                {
                                    "(No column name)": "3",
                                    "SZALLAS_NEV": "Gold Hotel",
                                    "SZOBA_SZAMA": "2"
                                },
                                {
                                    "(No column name)": "4",
                                    "SZALLAS_NEV": "Gold Hotel",
                                    "SZOBA_SZAMA": "20"
                                },
                                {
                                    "(No column name)": "12",
                                    "SZALLAS_NEV": "Gold Hotel",
                                    "SZOBA_SZAMA": "21"
                                },
                                {
                                    "(No column name)": "4",
                                    "SZALLAS_NEV": "Gold Hotel",
                                    "SZOBA_SZAMA": "22"
                                },
                                {
                                    "(No column name)": "7",
                                    "SZALLAS_NEV": "Gold Hotel",
                                    "SZOBA_SZAMA": "23"
                                },
                                {
                                    "(No column name)": "6",
                                    "SZALLAS_NEV": "Gold Hotel",
                                    "SZOBA_SZAMA": "24"
                                },
                                {
                                    "(No column name)": "5",
                                    "SZALLAS_NEV": "Gold Hotel",
                                    "SZOBA_SZAMA": "25"
                                },
                                {
                                    "(No column name)": "5",
                                    "SZALLAS_NEV": "Gold Hotel",
                                    "SZOBA_SZAMA": "26"
                                },
                                {
                                    "(No column name)": "5",
                                    "SZALLAS_NEV": "Gold Hotel",
                                    "SZOBA_SZAMA": "27"
                                },
                                {
                                    "(No column name)": "2",
                                    "SZALLAS_NEV": "Gold Hotel",
                                    "SZOBA_SZAMA": "28"
                                },
                                {
                                    "(No column name)": "7",
                                    "SZALLAS_NEV": "Gold Hotel",
                                    "SZOBA_SZAMA": "29"
                                },
                                {
                                    "(No column name)": "2",
                                    "SZALLAS_NEV": "Gold Hotel",
                                    "SZOBA_SZAMA": "3"
                                },
                                {
                                    "(No column name)": "1",
                                    "SZALLAS_NEV": "Gold Hotel",
                                    "SZOBA_SZAMA": "30"
                                },
                                {
                                    "(No column name)": "6",
                                    "SZALLAS_NEV": "Gold Hotel",
                                    "SZOBA_SZAMA": "31"
                                },
                                {
                                    "(No column name)": "4",
                                    "SZALLAS_NEV": "Gold Hotel",
                                    "SZOBA_SZAMA": "32"
                                },
                                {
                                    "(No column name)": "6",
                                    "SZALLAS_NEV": "Gold Hotel",
                                    "SZOBA_SZAMA": "33"
                                },
                                {
                                    "(No column name)": "8",
                                    "SZALLAS_NEV": "Gold Hotel",
                                    "SZOBA_SZAMA": "34"
                                },
                                {
                                    "(No column name)": "5",
                                    "SZALLAS_NEV": "Gold Hotel",
                                    "SZOBA_SZAMA": "4"
                                },
                                {
                                    "(No column name)": "6",
                                    "SZALLAS_NEV": "Gold Hotel",
                                    "SZOBA_SZAMA": "5"
                                },
                                {
                                    "(No column name)": "5",
                                    "SZALLAS_NEV": "Gold Hotel",
                                    "SZOBA_SZAMA": "6"
                                },
                                {
                                    "(No column name)": "5",
                                    "SZALLAS_NEV": "Gold Hotel",
                                    "SZOBA_SZAMA": "7"
                                },
                                {
                                    "(No column name)": "9",
                                    "SZALLAS_NEV": "Gold Hotel",
                                    "SZOBA_SZAMA": "8"
                                },
                                {
                                    "(No column name)": "4",
                                    "SZALLAS_NEV": "Gold Hotel",
                                    "SZOBA_SZAMA": "9"
                                },
                                {
                                    "(No column name)": "4",
                                    "SZALLAS_NEV": "Hotel Három Hattyú",
                                    "SZOBA_SZAMA": "1"
                                },
                                {
                                    "(No column name)": "4",
                                    "SZALLAS_NEV": "Hotel Három Hattyú",
                                    "SZOBA_SZAMA": "10"
                                },
                                {
                                    "(No column name)": "3",
                                    "SZALLAS_NEV": "Hotel Három Hattyú",
                                    "SZOBA_SZAMA": "11"
                                },
                                {
                                    "(No column name)": "2",
                                    "SZALLAS_NEV": "Hotel Három Hattyú",
                                    "SZOBA_SZAMA": "12"
                                },
                                {
                                    "(No column name)": "4",
                                    "SZALLAS_NEV": "Hotel Három Hattyú",
                                    "SZOBA_SZAMA": "13"
                                },
                                {
                                    "(No column name)": "4",
                                    "SZALLAS_NEV": "Hotel Három Hattyú",
                                    "SZOBA_SZAMA": "14"
                                },
                                {
                                    "(No column name)": "2",
                                    "SZALLAS_NEV": "Hotel Három Hattyú",
                                    "SZOBA_SZAMA": "15"
                                },
                                {
                                    "(No column name)": "6",
                                    "SZALLAS_NEV": "Hotel Három Hattyú",
                                    "SZOBA_SZAMA": "16"
                                },
                                {
                                    "(No column name)": "5",
                                    "SZALLAS_NEV": "Hotel Három Hattyú",
                                    "SZOBA_SZAMA": "17"
                                },
                                {
                                    "(No column name)": "2",
                                    "SZALLAS_NEV": "Hotel Három Hattyú",
                                    "SZOBA_SZAMA": "18"
                                },
                                {
                                    "(No column name)": "7",
                                    "SZALLAS_NEV": "Hotel Három Hattyú",
                                    "SZOBA_SZAMA": "19"
                                },
                                {
                                    "(No column name)": "6",
                                    "SZALLAS_NEV": "Hotel Három Hattyú",
                                    "SZOBA_SZAMA": "2"
                                },
                                {
                                    "(No column name)": "8",
                                    "SZALLAS_NEV": "Hotel Három Hattyú",
                                    "SZOBA_SZAMA": "20"
                                },
                                {
                                    "(No column name)": "5",
                                    "SZALLAS_NEV": "Hotel Három Hattyú",
                                    "SZOBA_SZAMA": "21"
                                },
                                {
                                    "(No column name)": "5",
                                    "SZALLAS_NEV": "Hotel Három Hattyú",
                                    "SZOBA_SZAMA": "22"
                                },
                                {
                                    "(No column name)": "5",
                                    "SZALLAS_NEV": "Hotel Három Hattyú",
                                    "SZOBA_SZAMA": "23"
                                },
                                {
                                    "(No column name)": "4",
                                    "SZALLAS_NEV": "Hotel Három Hattyú",
                                    "SZOBA_SZAMA": "24"
                                },
                                {
                                    "(No column name)": "7",
                                    "SZALLAS_NEV": "Hotel Három Hattyú",
                                    "SZOBA_SZAMA": "25"
                                },
                                {
                                    "(No column name)": "2",
                                    "SZALLAS_NEV": "Hotel Három Hattyú",
                                    "SZOBA_SZAMA": "26"
                                },
                                {
                                    "(No column name)": "8",
                                    "SZALLAS_NEV": "Hotel Három Hattyú",
                                    "SZOBA_SZAMA": "27"
                                },
                                {
                                    "(No column name)": "7",
                                    "SZALLAS_NEV": "Hotel Három Hattyú",
                                    "SZOBA_SZAMA": "28"
                                },
                                {
                                    "(No column name)": "5",
                                    "SZALLAS_NEV": "Hotel Három Hattyú",
                                    "SZOBA_SZAMA": "29"
                                },
                                {
                                    "(No column name)": "5",
                                    "SZALLAS_NEV": "Hotel Három Hattyú",
                                    "SZOBA_SZAMA": "3"
                                },
                                {
                                    "(No column name)": "6",
                                    "SZALLAS_NEV": "Hotel Három Hattyú",
                                    "SZOBA_SZAMA": "30"
                                },
                                {
                                    "(No column name)": "8",
                                    "SZALLAS_NEV": "Hotel Három Hattyú",
                                    "SZOBA_SZAMA": "31"
                                },
                                {
                                    "(No column name)": "9",
                                    "SZALLAS_NEV": "Hotel Három Hattyú",
                                    "SZOBA_SZAMA": "32"
                                },
                                {
                                    "(No column name)": "5",
                                    "SZALLAS_NEV": "Hotel Három Hattyú",
                                    "SZOBA_SZAMA": "33"
                                },
                                {
                                    "(No column name)": "6",
                                    "SZALLAS_NEV": "Hotel Három Hattyú",
                                    "SZOBA_SZAMA": "34"
                                },
                                {
                                    "(No column name)": "1",
                                    "SZALLAS_NEV": "Hotel Három Hattyú",
                                    "SZOBA_SZAMA": "35"
                                },
                                {
                                    "(No column name)": "6",
                                    "SZALLAS_NEV": "Hotel Három Hattyú",
                                    "SZOBA_SZAMA": "36"
                                },
                                {
                                    "(No column name)": "7",
                                    "SZALLAS_NEV": "Hotel Három Hattyú",
                                    "SZOBA_SZAMA": "37"
                                },
                                {
                                    "(No column name)": "5",
                                    "SZALLAS_NEV": "Hotel Három Hattyú",
                                    "SZOBA_SZAMA": "38"
                                },
                                {
                                    "(No column name)": "4",
                                    "SZALLAS_NEV": "Hotel Három Hattyú",
                                    "SZOBA_SZAMA": "39"
                                },
                                {
                                    "(No column name)": "10",
                                    "SZALLAS_NEV": "Hotel Három Hattyú",
                                    "SZOBA_SZAMA": "4"
                                },
                                {
                                    "(No column name)": "4",
                                    "SZALLAS_NEV": "Hotel Három Hattyú",
                                    "SZOBA_SZAMA": "5"
                                },
                                {
                                    "(No column name)": "7",
                                    "SZALLAS_NEV": "Hotel Három Hattyú",
                                    "SZOBA_SZAMA": "6"
                                },
                                {
                                    "(No column name)": "7",
                                    "SZALLAS_NEV": "Hotel Három Hattyú",
                                    "SZOBA_SZAMA": "7"
                                },
                                {
                                    "(No column name)": "4",
                                    "SZALLAS_NEV": "Hotel Három Hattyú",
                                    "SZOBA_SZAMA": "8"
                                },
                                {
                                    "(No column name)": "5",
                                    "SZALLAS_NEV": "Hotel Három Hattyú",
                                    "SZOBA_SZAMA": "9"
                                },
                                {
                                    "(No column name)": "6",
                                    "SZALLAS_NEV": "Jáde panzió",
                                    "SZOBA_SZAMA": "1"
                                },
                                {
                                    "(No column name)": "5",
                                    "SZALLAS_NEV": "Jáde panzió",
                                    "SZOBA_SZAMA": "2"
                                },
                                {
                                    "(No column name)": "6",
                                    "SZALLAS_NEV": "Jáde panzió",
                                    "SZOBA_SZAMA": "3"
                                },
                                {
                                    "(No column name)": "6",
                                    "SZALLAS_NEV": "Jáde panzió",
                                    "SZOBA_SZAMA": "4"
                                },
                                {
                                    "(No column name)": "6",
                                    "SZALLAS_NEV": "Jáde panzió",
                                    "SZOBA_SZAMA": "5"
                                },
                                {
                                    "(No column name)": "4",
                                    "SZALLAS_NEV": "Kentaur Hotel",
                                    "SZOBA_SZAMA": "1"
                                },
                                {
                                    "(No column name)": "7",
                                    "SZALLAS_NEV": "Kentaur Hotel",
                                    "SZOBA_SZAMA": "10"
                                },
                                {
                                    "(No column name)": "1",
                                    "SZALLAS_NEV": "Kentaur Hotel",
                                    "SZOBA_SZAMA": "11"
                                },
                                {
                                    "(No column name)": "5",
                                    "SZALLAS_NEV": "Kentaur Hotel",
                                    "SZOBA_SZAMA": "12"
                                },
                                {
                                    "(No column name)": "5",
                                    "SZALLAS_NEV": "Kentaur Hotel",
                                    "SZOBA_SZAMA": "13"
                                },
                                {
                                    "(No column name)": "4",
                                    "SZALLAS_NEV": "Kentaur Hotel",
                                    "SZOBA_SZAMA": "14"
                                },
                                {
                                    "(No column name)": "6",
                                    "SZALLAS_NEV": "Kentaur Hotel",
                                    "SZOBA_SZAMA": "15"
                                },
                                {
                                    "(No column name)": "1",
                                    "SZALLAS_NEV": "Kentaur Hotel",
                                    "SZOBA_SZAMA": "16"
                                },
                                {
                                    "(No column name)": "4",
                                    "SZALLAS_NEV": "Kentaur Hotel",
                                    "SZOBA_SZAMA": "17"
                                },
                                {
                                    "(No column name)": "6",
                                    "SZALLAS_NEV": "Kentaur Hotel",
                                    "SZOBA_SZAMA": "18"
                                },
                                {
                                    "(No column name)": "3",
                                    "SZALLAS_NEV": "Kentaur Hotel",
                                    "SZOBA_SZAMA": "19"
                                },
                                {
                                    "(No column name)": "5",
                                    "SZALLAS_NEV": "Kentaur Hotel",
                                    "SZOBA_SZAMA": "2"
                                },
                                {
                                    "(No column name)": "4",
                                    "SZALLAS_NEV": "Kentaur Hotel",
                                    "SZOBA_SZAMA": "20"
                                },
                                {
                                    "(No column name)": "11",
                                    "SZALLAS_NEV": "Kentaur Hotel",
                                    "SZOBA_SZAMA": "21"
                                },
                                {
                                    "(No column name)": "3",
                                    "SZALLAS_NEV": "Kentaur Hotel",
                                    "SZOBA_SZAMA": "22"
                                },
                                {
                                    "(No column name)": "4",
                                    "SZALLAS_NEV": "Kentaur Hotel",
                                    "SZOBA_SZAMA": "23"
                                },
                                {
                                    "(No column name)": "4",
                                    "SZALLAS_NEV": "Kentaur Hotel",
                                    "SZOBA_SZAMA": "24"
                                },
                                {
                                    "(No column name)": "9",
                                    "SZALLAS_NEV": "Kentaur Hotel",
                                    "SZOBA_SZAMA": "25"
                                },
                                {
                                    "(No column name)": "3",
                                    "SZALLAS_NEV": "Kentaur Hotel",
                                    "SZOBA_SZAMA": "26"
                                },
                                {
                                    "(No column name)": "3",
                                    "SZALLAS_NEV": "Kentaur Hotel",
                                    "SZOBA_SZAMA": "27"
                                },
                                {
                                    "(No column name)": "6",
                                    "SZALLAS_NEV": "Kentaur Hotel",
                                    "SZOBA_SZAMA": "28"
                                },
                                {
                                    "(No column name)": "6",
                                    "SZALLAS_NEV": "Kentaur Hotel",
                                    "SZOBA_SZAMA": "29"
                                },
                                {
                                    "(No column name)": "5",
                                    "SZALLAS_NEV": "Kentaur Hotel",
                                    "SZOBA_SZAMA": "3"
                                },
                                {
                                    "(No column name)": "5",
                                    "SZALLAS_NEV": "Kentaur Hotel",
                                    "SZOBA_SZAMA": "30"
                                },
                                {
                                    "(No column name)": "7",
                                    "SZALLAS_NEV": "Kentaur Hotel",
                                    "SZOBA_SZAMA": "31"
                                },
                                {
                                    "(No column name)": "5",
                                    "SZALLAS_NEV": "Kentaur Hotel",
                                    "SZOBA_SZAMA": "32"
                                },
                                {
                                    "(No column name)": "6",
                                    "SZALLAS_NEV": "Kentaur Hotel",
                                    "SZOBA_SZAMA": "33"
                                },
                                {
                                    "(No column name)": "8",
                                    "SZALLAS_NEV": "Kentaur Hotel",
                                    "SZOBA_SZAMA": "34"
                                },
                                {
                                    "(No column name)": "4",
                                    "SZALLAS_NEV": "Kentaur Hotel",
                                    "SZOBA_SZAMA": "35"
                                },
                                {
                                    "(No column name)": "2",
                                    "SZALLAS_NEV": "Kentaur Hotel",
                                    "SZOBA_SZAMA": "4"
                                },
                                {
                                    "(No column name)": "6",
                                    "SZALLAS_NEV": "Kentaur Hotel",
                                    "SZOBA_SZAMA": "5"
                                },
                                {
                                    "(No column name)": "8",
                                    "SZALLAS_NEV": "Kentaur Hotel",
                                    "SZOBA_SZAMA": "6"
                                },
                                {
                                    "(No column name)": "2",
                                    "SZALLAS_NEV": "Kentaur Hotel",
                                    "SZOBA_SZAMA": "7"
                                },
                                {
                                    "(No column name)": "4",
                                    "SZALLAS_NEV": "Kentaur Hotel",
                                    "SZOBA_SZAMA": "8"
                                },
                                {
                                    "(No column name)": "13",
                                    "SZALLAS_NEV": "Kentaur Hotel",
                                    "SZOBA_SZAMA": "9"
                                },
                                {
                                    "(No column name)": "3",
                                    "SZALLAS_NEV": "Lagúna Hotel",
                                    "SZOBA_SZAMA": "1"
                                },
                                {
                                    "(No column name)": "5",
                                    "SZALLAS_NEV": "Lagúna Hotel",
                                    "SZOBA_SZAMA": "10"
                                },
                                {
                                    "(No column name)": "6",
                                    "SZALLAS_NEV": "Lagúna Hotel",
                                    "SZOBA_SZAMA": "11"
                                },
                                {
                                    "(No column name)": "6",
                                    "SZALLAS_NEV": "Lagúna Hotel",
                                    "SZOBA_SZAMA": "12"
                                },
                                {
                                    "(No column name)": "1",
                                    "SZALLAS_NEV": "Lagúna Hotel",
                                    "SZOBA_SZAMA": "13"
                                },
                                {
                                    "(No column name)": "6",
                                    "SZALLAS_NEV": "Lagúna Hotel",
                                    "SZOBA_SZAMA": "14"
                                },
                                {
                                    "(No column name)": "7",
                                    "SZALLAS_NEV": "Lagúna Hotel",
                                    "SZOBA_SZAMA": "15"
                                },
                                {
                                    "(No column name)": "6",
                                    "SZALLAS_NEV": "Lagúna Hotel",
                                    "SZOBA_SZAMA": "16"
                                },
                                {
                                    "(No column name)": "3",
                                    "SZALLAS_NEV": "Lagúna Hotel",
                                    "SZOBA_SZAMA": "17"
                                },
                                {
                                    "(No column name)": "4",
                                    "SZALLAS_NEV": "Lagúna Hotel",
                                    "SZOBA_SZAMA": "18"
                                },
                                {
                                    "(No column name)": "5",
                                    "SZALLAS_NEV": "Lagúna Hotel",
                                    "SZOBA_SZAMA": "19"
                                },
                                {
                                    "(No column name)": "3",
                                    "SZALLAS_NEV": "Lagúna Hotel",
                                    "SZOBA_SZAMA": "2"
                                },
                                {
                                    "(No column name)": "5",
                                    "SZALLAS_NEV": "Lagúna Hotel",
                                    "SZOBA_SZAMA": "20"
                                },
                                {
                                    "(No column name)": "5",
                                    "SZALLAS_NEV": "Lagúna Hotel",
                                    "SZOBA_SZAMA": "21"
                                },
                                {
                                    "(No column name)": "7",
                                    "SZALLAS_NEV": "Lagúna Hotel",
                                    "SZOBA_SZAMA": "22"
                                },
                                {
                                    "(No column name)": "5",
                                    "SZALLAS_NEV": "Lagúna Hotel",
                                    "SZOBA_SZAMA": "23"
                                },
                                {
                                    "(No column name)": "3",
                                    "SZALLAS_NEV": "Lagúna Hotel",
                                    "SZOBA_SZAMA": "24"
                                },
                                {
                                    "(No column name)": "6",
                                    "SZALLAS_NEV": "Lagúna Hotel",
                                    "SZOBA_SZAMA": "3"
                                },
                                {
                                    "(No column name)": "7",
                                    "SZALLAS_NEV": "Lagúna Hotel",
                                    "SZOBA_SZAMA": "4"
                                },
                                {
                                    "(No column name)": "7",
                                    "SZALLAS_NEV": "Lagúna Hotel",
                                    "SZOBA_SZAMA": "5"
                                },
                                {
                                    "(No column name)": "8",
                                    "SZALLAS_NEV": "Lagúna Hotel",
                                    "SZOBA_SZAMA": "6"
                                },
                                {
                                    "(No column name)": "6",
                                    "SZALLAS_NEV": "Lagúna Hotel",
                                    "SZOBA_SZAMA": "7"
                                },
                                {
                                    "(No column name)": "2",
                                    "SZALLAS_NEV": "Lagúna Hotel",
                                    "SZOBA_SZAMA": "8"
                                },
                                {
                                    "(No column name)": "7",
                                    "SZALLAS_NEV": "Lagúna Hotel",
                                    "SZOBA_SZAMA": "9"
                                },
                                {
                                    "(No column name)": "5",
                                    "SZALLAS_NEV": "Partiszél Vendégház",
                                    "SZOBA_SZAMA": "1"
                                },
                                {
                                    "(No column name)": "6",
                                    "SZALLAS_NEV": "Partiszél Vendégház",
                                    "SZOBA_SZAMA": "2"
                                },
                                {
                                    "(No column name)": "3",
                                    "SZALLAS_NEV": "Partiszél Vendégház",
                                    "SZOBA_SZAMA": "3"
                                },
                                {
                                    "(No column name)": "7",
                                    "SZALLAS_NEV": "Partiszél Vendégház",
                                    "SZOBA_SZAMA": "4"
                                },
                                {
                                    "(No column name)": "5",
                                    "SZALLAS_NEV": "Partiszél Vendégház",
                                    "SZOBA_SZAMA": "5"
                                },
                                {
                                    "(No column name)": "8",
                                    "SZALLAS_NEV": "Sába-Ház",
                                    "SZOBA_SZAMA": "1"
                                },
                                {
                                    "(No column name)": "4",
                                    "SZALLAS_NEV": "Sába-Ház",
                                    "SZOBA_SZAMA": "10"
                                },
                                {
                                    "(No column name)": "4",
                                    "SZALLAS_NEV": "Sába-Ház",
                                    "SZOBA_SZAMA": "11"
                                },
                                {
                                    "(No column name)": "9",
                                    "SZALLAS_NEV": "Sába-Ház",
                                    "SZOBA_SZAMA": "12"
                                },
                                {
                                    "(No column name)": "4",
                                    "SZALLAS_NEV": "Sába-Ház",
                                    "SZOBA_SZAMA": "2"
                                },
                                {
                                    "(No column name)": "8",
                                    "SZALLAS_NEV": "Sába-Ház",
                                    "SZOBA_SZAMA": "3"
                                },
                                {
                                    "(No column name)": "6",
                                    "SZALLAS_NEV": "Sába-Ház",
                                    "SZOBA_SZAMA": "4"
                                },
                                {
                                    "(No column name)": "4",
                                    "SZALLAS_NEV": "Sába-Ház",
                                    "SZOBA_SZAMA": "5"
                                },
                                {
                                    "(No column name)": "6",
                                    "SZALLAS_NEV": "Sába-Ház",
                                    "SZOBA_SZAMA": "6"
                                },
                                {
                                    "(No column name)": "6",
                                    "SZALLAS_NEV": "Sába-Ház",
                                    "SZOBA_SZAMA": "7"
                                },
                                {
                                    "(No column name)": "5",
                                    "SZALLAS_NEV": "Sába-Ház",
                                    "SZOBA_SZAMA": "8"
                                },
                                {
                                    "(No column name)": "6",
                                    "SZALLAS_NEV": "Sába-Ház",
                                    "SZOBA_SZAMA": "9"
                                },
                                {
                                    "(No column name)": "4",
                                    "SZALLAS_NEV": "Szieszta Apartmanház",
                                    "SZOBA_SZAMA": "1"
                                },
                                {
                                    "(No column name)": "5",
                                    "SZALLAS_NEV": "Szieszta Apartmanház",
                                    "SZOBA_SZAMA": "2"
                                },
                                {
                                    "(No column name)": "5",
                                    "SZALLAS_NEV": "Szieszta Apartmanház",
                                    "SZOBA_SZAMA": "3"
                                },
                                {
                                    "(No column name)": "8",
                                    "SZALLAS_NEV": "Szieszta Apartmanház",
                                    "SZOBA_SZAMA": "4"
                                },
                                {
                                    "(No column name)": "8",
                                    "SZALLAS_NEV": "Szieszta Apartmanház",
                                    "SZOBA_SZAMA": "5"
                                },
                                {
                                    "(No column name)": "4",
                                    "SZALLAS_NEV": "Szieszta Apartmanház",
                                    "SZOBA_SZAMA": "6"
                                }
                            ],
                            "schema": {
                                "fields": [
                                    {
                                        "name": "SZALLAS_NEV"
                                    },
                                    {
                                        "name": "SZOBA_SZAMA"
                                    },
                                    {
                                        "name": "(No column name)"
                                    }
                                ]
                            }
                        },
                        "text/html": [
                            "<table>\n",
                            "<tr><th>SZALLAS_NEV</th><th>SZOBA_SZAMA</th><th>(No column name)</th></tr>\n",
                            "<tr><td>Családi Ház</td><td>1</td><td>4</td></tr>\n",
                            "<tr><td>Családi Ház</td><td>2</td><td>3</td></tr>\n",
                            "<tr><td>Családi Ház</td><td>3</td><td>6</td></tr>\n",
                            "<tr><td>Családi Ház</td><td>4</td><td>5</td></tr>\n",
                            "<tr><td>Fortuna Apartman</td><td>1</td><td>6</td></tr>\n",
                            "<tr><td>Fortuna Apartman</td><td>2</td><td>6</td></tr>\n",
                            "<tr><td>Fortuna Apartman</td><td>3</td><td>6</td></tr>\n",
                            "<tr><td>Fortuna Apartman</td><td>4</td><td>5</td></tr>\n",
                            "<tr><td>Fortuna Apartman</td><td>5</td><td>4</td></tr>\n",
                            "<tr><td>Fortuna Apartman</td><td>6</td><td>6</td></tr>\n",
                            "<tr><td>Fortuna Apartman</td><td>7</td><td>3</td></tr>\n",
                            "<tr><td>Fortuna Apartman</td><td>8</td><td>3</td></tr>\n",
                            "<tr><td>Fortuna panzió</td><td>1</td><td>6</td></tr>\n",
                            "<tr><td>Fortuna Panzió</td><td>10</td><td>11</td></tr>\n",
                            "<tr><td>Fortuna panzió</td><td>11</td><td>9</td></tr>\n",
                            "<tr><td>Fortuna panzió</td><td>12</td><td>6</td></tr>\n",
                            "<tr><td>Fortuna panzió</td><td>13</td><td>3</td></tr>\n",
                            "<tr><td>Fortuna panzió</td><td>14</td><td>8</td></tr>\n",
                            "<tr><td>Fortuna panzió</td><td>15</td><td>7</td></tr>\n",
                            "<tr><td>Fortuna Panzió</td><td>2</td><td>4</td></tr>\n",
                            "<tr><td>Fortuna Panzió</td><td>3</td><td>13</td></tr>\n",
                            "<tr><td>Fortuna panzió</td><td>4</td><td>14</td></tr>\n",
                            "<tr><td>Fortuna panzió</td><td>5</td><td>12</td></tr>\n",
                            "<tr><td>Fortuna Panzió</td><td>6</td><td>8</td></tr>\n",
                            "<tr><td>Fortuna panzió</td><td>7</td><td>7</td></tr>\n",
                            "<tr><td>Fortuna Panzió</td><td>8</td><td>3</td></tr>\n",
                            "<tr><td>Fortuna panzió</td><td>9</td><td>15</td></tr>\n",
                            "<tr><td>Gold Hotel</td><td>1</td><td>7</td></tr>\n",
                            "<tr><td>Gold Hotel</td><td>10</td><td>4</td></tr>\n",
                            "<tr><td>Gold Hotel</td><td>11</td><td>5</td></tr>\n",
                            "<tr><td>Gold Hotel</td><td>12</td><td>6</td></tr>\n",
                            "<tr><td>Gold Hotel</td><td>13</td><td>4</td></tr>\n",
                            "<tr><td>Gold Hotel</td><td>14</td><td>4</td></tr>\n",
                            "<tr><td>Gold Hotel</td><td>15</td><td>3</td></tr>\n",
                            "<tr><td>Gold Hotel</td><td>16</td><td>3</td></tr>\n",
                            "<tr><td>Gold Hotel</td><td>17</td><td>6</td></tr>\n",
                            "<tr><td>Gold Hotel</td><td>18</td><td>12</td></tr>\n",
                            "<tr><td>Gold Hotel</td><td>19</td><td>4</td></tr>\n",
                            "<tr><td>Gold Hotel</td><td>2</td><td>3</td></tr>\n",
                            "<tr><td>Gold Hotel</td><td>20</td><td>4</td></tr>\n",
                            "<tr><td>Gold Hotel</td><td>21</td><td>12</td></tr>\n",
                            "<tr><td>Gold Hotel</td><td>22</td><td>4</td></tr>\n",
                            "<tr><td>Gold Hotel</td><td>23</td><td>7</td></tr>\n",
                            "<tr><td>Gold Hotel</td><td>24</td><td>6</td></tr>\n",
                            "<tr><td>Gold Hotel</td><td>25</td><td>5</td></tr>\n",
                            "<tr><td>Gold Hotel</td><td>26</td><td>5</td></tr>\n",
                            "<tr><td>Gold Hotel</td><td>27</td><td>5</td></tr>\n",
                            "<tr><td>Gold Hotel</td><td>28</td><td>2</td></tr>\n",
                            "<tr><td>Gold Hotel</td><td>29</td><td>7</td></tr>\n",
                            "<tr><td>Gold Hotel</td><td>3</td><td>2</td></tr>\n",
                            "<tr><td>Gold Hotel</td><td>30</td><td>1</td></tr>\n",
                            "<tr><td>Gold Hotel</td><td>31</td><td>6</td></tr>\n",
                            "<tr><td>Gold Hotel</td><td>32</td><td>4</td></tr>\n",
                            "<tr><td>Gold Hotel</td><td>33</td><td>6</td></tr>\n",
                            "<tr><td>Gold Hotel</td><td>34</td><td>8</td></tr>\n",
                            "<tr><td>Gold Hotel</td><td>4</td><td>5</td></tr>\n",
                            "<tr><td>Gold Hotel</td><td>5</td><td>6</td></tr>\n",
                            "<tr><td>Gold Hotel</td><td>6</td><td>5</td></tr>\n",
                            "<tr><td>Gold Hotel</td><td>7</td><td>5</td></tr>\n",
                            "<tr><td>Gold Hotel</td><td>8</td><td>9</td></tr>\n",
                            "<tr><td>Gold Hotel</td><td>9</td><td>4</td></tr>\n",
                            "<tr><td>Hotel Három Hattyú</td><td>1</td><td>4</td></tr>\n",
                            "<tr><td>Hotel Három Hattyú</td><td>10</td><td>4</td></tr>\n",
                            "<tr><td>Hotel Három Hattyú</td><td>11</td><td>3</td></tr>\n",
                            "<tr><td>Hotel Három Hattyú</td><td>12</td><td>2</td></tr>\n",
                            "<tr><td>Hotel Három Hattyú</td><td>13</td><td>4</td></tr>\n",
                            "<tr><td>Hotel Három Hattyú</td><td>14</td><td>4</td></tr>\n",
                            "<tr><td>Hotel Három Hattyú</td><td>15</td><td>2</td></tr>\n",
                            "<tr><td>Hotel Három Hattyú</td><td>16</td><td>6</td></tr>\n",
                            "<tr><td>Hotel Három Hattyú</td><td>17</td><td>5</td></tr>\n",
                            "<tr><td>Hotel Három Hattyú</td><td>18</td><td>2</td></tr>\n",
                            "<tr><td>Hotel Három Hattyú</td><td>19</td><td>7</td></tr>\n",
                            "<tr><td>Hotel Három Hattyú</td><td>2</td><td>6</td></tr>\n",
                            "<tr><td>Hotel Három Hattyú</td><td>20</td><td>8</td></tr>\n",
                            "<tr><td>Hotel Három Hattyú</td><td>21</td><td>5</td></tr>\n",
                            "<tr><td>Hotel Három Hattyú</td><td>22</td><td>5</td></tr>\n",
                            "<tr><td>Hotel Három Hattyú</td><td>23</td><td>5</td></tr>\n",
                            "<tr><td>Hotel Három Hattyú</td><td>24</td><td>4</td></tr>\n",
                            "<tr><td>Hotel Három Hattyú</td><td>25</td><td>7</td></tr>\n",
                            "<tr><td>Hotel Három Hattyú</td><td>26</td><td>2</td></tr>\n",
                            "<tr><td>Hotel Három Hattyú</td><td>27</td><td>8</td></tr>\n",
                            "<tr><td>Hotel Három Hattyú</td><td>28</td><td>7</td></tr>\n",
                            "<tr><td>Hotel Három Hattyú</td><td>29</td><td>5</td></tr>\n",
                            "<tr><td>Hotel Három Hattyú</td><td>3</td><td>5</td></tr>\n",
                            "<tr><td>Hotel Három Hattyú</td><td>30</td><td>6</td></tr>\n",
                            "<tr><td>Hotel Három Hattyú</td><td>31</td><td>8</td></tr>\n",
                            "<tr><td>Hotel Három Hattyú</td><td>32</td><td>9</td></tr>\n",
                            "<tr><td>Hotel Három Hattyú</td><td>33</td><td>5</td></tr>\n",
                            "<tr><td>Hotel Három Hattyú</td><td>34</td><td>6</td></tr>\n",
                            "<tr><td>Hotel Három Hattyú</td><td>35</td><td>1</td></tr>\n",
                            "<tr><td>Hotel Három Hattyú</td><td>36</td><td>6</td></tr>\n",
                            "<tr><td>Hotel Három Hattyú</td><td>37</td><td>7</td></tr>\n",
                            "<tr><td>Hotel Három Hattyú</td><td>38</td><td>5</td></tr>\n",
                            "<tr><td>Hotel Három Hattyú</td><td>39</td><td>4</td></tr>\n",
                            "<tr><td>Hotel Három Hattyú</td><td>4</td><td>10</td></tr>\n",
                            "<tr><td>Hotel Három Hattyú</td><td>5</td><td>4</td></tr>\n",
                            "<tr><td>Hotel Három Hattyú</td><td>6</td><td>7</td></tr>\n",
                            "<tr><td>Hotel Három Hattyú</td><td>7</td><td>7</td></tr>\n",
                            "<tr><td>Hotel Három Hattyú</td><td>8</td><td>4</td></tr>\n",
                            "<tr><td>Hotel Három Hattyú</td><td>9</td><td>5</td></tr>\n",
                            "<tr><td>Jáde panzió</td><td>1</td><td>6</td></tr>\n",
                            "<tr><td>Jáde panzió</td><td>2</td><td>5</td></tr>\n",
                            "<tr><td>Jáde panzió</td><td>3</td><td>6</td></tr>\n",
                            "<tr><td>Jáde panzió</td><td>4</td><td>6</td></tr>\n",
                            "<tr><td>Jáde panzió</td><td>5</td><td>6</td></tr>\n",
                            "<tr><td>Kentaur Hotel</td><td>1</td><td>4</td></tr>\n",
                            "<tr><td>Kentaur Hotel</td><td>10</td><td>7</td></tr>\n",
                            "<tr><td>Kentaur Hotel</td><td>11</td><td>1</td></tr>\n",
                            "<tr><td>Kentaur Hotel</td><td>12</td><td>5</td></tr>\n",
                            "<tr><td>Kentaur Hotel</td><td>13</td><td>5</td></tr>\n",
                            "<tr><td>Kentaur Hotel</td><td>14</td><td>4</td></tr>\n",
                            "<tr><td>Kentaur Hotel</td><td>15</td><td>6</td></tr>\n",
                            "<tr><td>Kentaur Hotel</td><td>16</td><td>1</td></tr>\n",
                            "<tr><td>Kentaur Hotel</td><td>17</td><td>4</td></tr>\n",
                            "<tr><td>Kentaur Hotel</td><td>18</td><td>6</td></tr>\n",
                            "<tr><td>Kentaur Hotel</td><td>19</td><td>3</td></tr>\n",
                            "<tr><td>Kentaur Hotel</td><td>2</td><td>5</td></tr>\n",
                            "<tr><td>Kentaur Hotel</td><td>20</td><td>4</td></tr>\n",
                            "<tr><td>Kentaur Hotel</td><td>21</td><td>11</td></tr>\n",
                            "<tr><td>Kentaur Hotel</td><td>22</td><td>3</td></tr>\n",
                            "<tr><td>Kentaur Hotel</td><td>23</td><td>4</td></tr>\n",
                            "<tr><td>Kentaur Hotel</td><td>24</td><td>4</td></tr>\n",
                            "<tr><td>Kentaur Hotel</td><td>25</td><td>9</td></tr>\n",
                            "<tr><td>Kentaur Hotel</td><td>26</td><td>3</td></tr>\n",
                            "<tr><td>Kentaur Hotel</td><td>27</td><td>3</td></tr>\n",
                            "<tr><td>Kentaur Hotel</td><td>28</td><td>6</td></tr>\n",
                            "<tr><td>Kentaur Hotel</td><td>29</td><td>6</td></tr>\n",
                            "<tr><td>Kentaur Hotel</td><td>3</td><td>5</td></tr>\n",
                            "<tr><td>Kentaur Hotel</td><td>30</td><td>5</td></tr>\n",
                            "<tr><td>Kentaur Hotel</td><td>31</td><td>7</td></tr>\n",
                            "<tr><td>Kentaur Hotel</td><td>32</td><td>5</td></tr>\n",
                            "<tr><td>Kentaur Hotel</td><td>33</td><td>6</td></tr>\n",
                            "<tr><td>Kentaur Hotel</td><td>34</td><td>8</td></tr>\n",
                            "<tr><td>Kentaur Hotel</td><td>35</td><td>4</td></tr>\n",
                            "<tr><td>Kentaur Hotel</td><td>4</td><td>2</td></tr>\n",
                            "<tr><td>Kentaur Hotel</td><td>5</td><td>6</td></tr>\n",
                            "<tr><td>Kentaur Hotel</td><td>6</td><td>8</td></tr>\n",
                            "<tr><td>Kentaur Hotel</td><td>7</td><td>2</td></tr>\n",
                            "<tr><td>Kentaur Hotel</td><td>8</td><td>4</td></tr>\n",
                            "<tr><td>Kentaur Hotel</td><td>9</td><td>13</td></tr>\n",
                            "<tr><td>Lagúna Hotel</td><td>1</td><td>3</td></tr>\n",
                            "<tr><td>Lagúna Hotel</td><td>10</td><td>5</td></tr>\n",
                            "<tr><td>Lagúna Hotel</td><td>11</td><td>6</td></tr>\n",
                            "<tr><td>Lagúna Hotel</td><td>12</td><td>6</td></tr>\n",
                            "<tr><td>Lagúna Hotel</td><td>13</td><td>1</td></tr>\n",
                            "<tr><td>Lagúna Hotel</td><td>14</td><td>6</td></tr>\n",
                            "<tr><td>Lagúna Hotel</td><td>15</td><td>7</td></tr>\n",
                            "<tr><td>Lagúna Hotel</td><td>16</td><td>6</td></tr>\n",
                            "<tr><td>Lagúna Hotel</td><td>17</td><td>3</td></tr>\n",
                            "<tr><td>Lagúna Hotel</td><td>18</td><td>4</td></tr>\n",
                            "<tr><td>Lagúna Hotel</td><td>19</td><td>5</td></tr>\n",
                            "<tr><td>Lagúna Hotel</td><td>2</td><td>3</td></tr>\n",
                            "<tr><td>Lagúna Hotel</td><td>20</td><td>5</td></tr>\n",
                            "<tr><td>Lagúna Hotel</td><td>21</td><td>5</td></tr>\n",
                            "<tr><td>Lagúna Hotel</td><td>22</td><td>7</td></tr>\n",
                            "<tr><td>Lagúna Hotel</td><td>23</td><td>5</td></tr>\n",
                            "<tr><td>Lagúna Hotel</td><td>24</td><td>3</td></tr>\n",
                            "<tr><td>Lagúna Hotel</td><td>3</td><td>6</td></tr>\n",
                            "<tr><td>Lagúna Hotel</td><td>4</td><td>7</td></tr>\n",
                            "<tr><td>Lagúna Hotel</td><td>5</td><td>7</td></tr>\n",
                            "<tr><td>Lagúna Hotel</td><td>6</td><td>8</td></tr>\n",
                            "<tr><td>Lagúna Hotel</td><td>7</td><td>6</td></tr>\n",
                            "<tr><td>Lagúna Hotel</td><td>8</td><td>2</td></tr>\n",
                            "<tr><td>Lagúna Hotel</td><td>9</td><td>7</td></tr>\n",
                            "<tr><td>Partiszél Vendégház</td><td>1</td><td>5</td></tr>\n",
                            "<tr><td>Partiszél Vendégház</td><td>2</td><td>6</td></tr>\n",
                            "<tr><td>Partiszél Vendégház</td><td>3</td><td>3</td></tr>\n",
                            "<tr><td>Partiszél Vendégház</td><td>4</td><td>7</td></tr>\n",
                            "<tr><td>Partiszél Vendégház</td><td>5</td><td>5</td></tr>\n",
                            "<tr><td>Sába-Ház</td><td>1</td><td>8</td></tr>\n",
                            "<tr><td>Sába-Ház</td><td>10</td><td>4</td></tr>\n",
                            "<tr><td>Sába-Ház</td><td>11</td><td>4</td></tr>\n",
                            "<tr><td>Sába-Ház</td><td>12</td><td>9</td></tr>\n",
                            "<tr><td>Sába-Ház</td><td>2</td><td>4</td></tr>\n",
                            "<tr><td>Sába-Ház</td><td>3</td><td>8</td></tr>\n",
                            "<tr><td>Sába-Ház</td><td>4</td><td>6</td></tr>\n",
                            "<tr><td>Sába-Ház</td><td>5</td><td>4</td></tr>\n",
                            "<tr><td>Sába-Ház</td><td>6</td><td>6</td></tr>\n",
                            "<tr><td>Sába-Ház</td><td>7</td><td>6</td></tr>\n",
                            "<tr><td>Sába-Ház</td><td>8</td><td>5</td></tr>\n",
                            "<tr><td>Sába-Ház</td><td>9</td><td>6</td></tr>\n",
                            "<tr><td>Szieszta Apartmanház</td><td>1</td><td>4</td></tr>\n",
                            "<tr><td>Szieszta Apartmanház</td><td>2</td><td>5</td></tr>\n",
                            "<tr><td>Szieszta Apartmanház</td><td>3</td><td>5</td></tr>\n",
                            "<tr><td>Szieszta Apartmanház</td><td>4</td><td>8</td></tr>\n",
                            "<tr><td>Szieszta Apartmanház</td><td>5</td><td>8</td></tr>\n",
                            "<tr><td>Szieszta Apartmanház</td><td>6</td><td>4</td></tr>\n",
                            "</table>"
                        ]
                    },
                    "execution_count": 32,
                    "metadata": {},
                    "output_type": "execute_result"
                }
            ],
            "source": [
                "-- 2. feladat\n",
                "SELECT szh.SZALLAS_NEV, sz.SZOBA_SZAMA, COUNT(f.FOGLALAS_PK)\n",
                "FROM Foglalas f INNER JOIN Szoba sz ON f.SZOBA_FK = sz.SZOBA_ID\n",
                "                INNER JOIN Szallashely szh  ON sz.SZALLAS_FK = szh.SZALLAS_ID\n",
                "WHERE f.FOGLALAS_PK IS NOT NULL\n",
                "GROUP BY sz.SZOBA_SZAMA, szh.SZALLAS_NEV\n",
                "\n",
                "\n",
                "\n",
                "\n",
                "\n",
                "\n",
                "\n"
            ]
        }
    ],
    "metadata": {
        "kernelspec": {
            "display_name": "SQL",
            "language": "sql",
            "name": "SQL"
        },
        "language_info": {
            "name": "sql",
            "version": ""
        }
    },
    "nbformat": 4,
    "nbformat_minor": 2
}
